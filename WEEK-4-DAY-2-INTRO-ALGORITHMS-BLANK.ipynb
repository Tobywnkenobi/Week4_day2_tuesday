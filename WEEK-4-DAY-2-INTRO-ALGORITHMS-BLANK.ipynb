{
 "cells": [
  {
   "cell_type": "markdown",
   "metadata": {},
   "source": [
    "# Algorithms, Binary Search & Linked Lists"
   ]
  },
  {
   "cell_type": "markdown",
   "metadata": {},
   "source": [
    "## Tasks Today:\n",
    " \n",
    "1) <b>In-Place Algorithms</b> <br>\n",
    " &nbsp;&nbsp;&nbsp;&nbsp; a) Syntax <br>\n",
    " &nbsp;&nbsp;&nbsp;&nbsp; a) Out of Place Algorithm <br>\n",
    " &nbsp;&nbsp;&nbsp;&nbsp; b) In-Class Exercise #1 <br>\n",
    "2) <b>Two Pointers</b> <br>\n",
    "3) <b>Linked Lists</b> <br>\n",
    "4) <b>Merge Sort</b> <br>\n",
    " &nbsp;&nbsp;&nbsp;&nbsp; a) Video on Algorithms <br>\n",
    " &nbsp;&nbsp;&nbsp;&nbsp; b) How it Works <br>\n",
    "5) <b>Exercises</b> <br>\n",
    " &nbsp;&nbsp;&nbsp;&nbsp; a) Exercise #1 - Reverse a List in Place Using an In-Place Algorithm <br>\n",
    " &nbsp;&nbsp;&nbsp;&nbsp; b) Exercise #2 - Find Distinct Words <br>\n",
    " &nbsp;&nbsp;&nbsp;&nbsp; c) Exercise #3 - Write a program to implement a Linear Search Algorithm. <br>"
   ]
  },
  {
   "cell_type": "markdown",
   "metadata": {},
   "source": [
    "## In-Place Algorithms"
   ]
  },
  {
   "cell_type": "markdown",
   "metadata": {},
   "source": [
    "#### Syntax"
   ]
  },
  {
   "cell_type": "code",
   "execution_count": 11,
   "metadata": {},
   "outputs": [
    {
     "name": "stdout",
     "output_type": "stream",
     "text": [
      "og_list = [5, 3, 1, 8] before\n",
      "og_list = [1, 3, 5, 8] after\n",
      "None\n",
      "og_list = [1, 3, 5, 8] before\n",
      "og_list = [8, 3, 5, 1] after\n"
     ]
    }
   ],
   "source": [
    "og_list = [5,3,1,8]\n",
    "print(f\"{og_list = } before\")\n",
    "sorted_list = og_list.sort()\n",
    "print(f\"{og_list = } after\\n{sorted_list}\")\n",
    "\n",
    "\n",
    "def inplace_swap(alist):\n",
    "    alist[0], alist[-1] = alist[-1], alist[0]\n",
    "    return alist\n",
    "    \n",
    "print(f\"{og_list = } before\")\n",
    "sorted_list = inplace_swap(og_list)\n",
    "print(f\"{og_list = } after\")\n"
   ]
  },
  {
   "cell_type": "markdown",
   "metadata": {},
   "source": [
    "#### Out of Place Algorithm"
   ]
  },
  {
   "cell_type": "code",
   "execution_count": 17,
   "metadata": {},
   "outputs": [
    {
     "name": "stdout",
     "output_type": "stream",
     "text": [
      "new_list = [8, 30, 1, 0, 5] before\n",
      "new_list = [8, 30, 1, 0, 5] after\n",
      "sorted_new_list = [0, 1, 5, 8, 30]\n",
      "matrix_string = 'matrix' before\n",
      "matrix_string = 'matrix' after\n",
      "None\n",
      "new_list = [8, 30, 1, 0, 5] before\n",
      "new_list = [8, 30, 1, 0, 5] after\n",
      "swapped_new_list = None\n"
     ]
    }
   ],
   "source": [
    "new_list = [8,30,1,0,5]\n",
    "print(f\"{new_list = } before\")\n",
    "sorted_new_list = sorted(new_list)\n",
    "print(f\"{new_list = } after\\n{sorted_new_list = }\")\n",
    "\n",
    "def reverse_string(astring):\n",
    "    astring[::-1]\n",
    "    \n",
    "matrix_string = \"matrix\"\n",
    "print(f\"{matrix_string = } before\")\n",
    "matrix_reversed = reverse_string(\"matrix\")\n",
    "print(f\"{matrix_string = } after\")\n",
    "print(matrix_reversed)\n",
    "\n",
    "def outplace_swap(alist):\n",
    "    alist_copy = alist [::]\n",
    "    alist_copy[0], alist_copy[-1] = alist_copy[-1], alist_copy[0]\n",
    "    \n",
    "print(f\"{new_list = } before\")\n",
    "swapped_new_list = outplace_swap(new_list)\n",
    "print(f\"{new_list = } after\\n{swapped_new_list = }\")"
   ]
  },
  {
   "cell_type": "markdown",
   "metadata": {},
   "source": [
    "#### In-Class Exercise #1 <br>\n",
    "<p>Write a function that takes in four arguments (list, index1, index2, index3), and swaps those three positions in the list passed in.</p>"
   ]
  },
  {
   "cell_type": "code",
   "execution_count": 19,
   "metadata": {},
   "outputs": [
    {
     "name": "stdout",
     "output_type": "stream",
     "text": [
      "l_1 = [10, 4, 3, 8, 4, 2, 6] before\n",
      "l_1 = [2, 3, 4, 4, 6, 8, 10]after\n",
      "None\n",
      "l_1 = [2, 3, 4, 4, 6, 8, 10] before\n",
      "l_1 = [2, 3, 4, 4, 6, 8, 10] after\n"
     ]
    }
   ],
   "source": [
    "\n",
    "l_1 = [10, 4, 3, 8, 4, 2, 6]\n",
    "\n",
    "print(f\"{l_1 = } before\")\n",
    "sorted_list = l_1.sort()\n",
    "print(f\"{l_1 = }after\\n{sorted_list}\")\n",
    "\n",
    "def inplace_swap(alist):\n",
    "    alist[0], alist[-1] = alist[-1], alist[0]\n",
    "    return alist\n",
    "#Out of place Al Gore\n",
    "\n",
    "print(f\"{l_1 = } before\")\n",
    "sorted_new_list = sorted(l_1)\n",
    "print(f\"{l_1 = } after\")\n",
    "\n",
    "def outplace_swap(alist):\n",
    "    alist_copy = alist[::]\n",
    "    alist_copy[0], alist_copy[-1] = alist_copy[-1], alist_copy[0]\n"
   ]
  },
  {
   "cell_type": "markdown",
   "metadata": {},
   "source": [
    "## Two Pointers"
   ]
  },
  {
   "cell_type": "markdown",
   "metadata": {},
   "source": [
    "#### Syntax"
   ]
  },
  {
   "cell_type": "code",
   "execution_count": 23,
   "metadata": {},
   "outputs": [
    {
     "name": "stdout",
     "output_type": "stream",
     "text": [
      "left_point = 0 = Rright_point = 6 = r\n",
      "left_point = 1 = aright_point = 5 = a\n",
      "left_point = 2 = cright_point = 4 = c\n"
     ]
    },
    {
     "data": {
      "text/plain": [
       "True"
      ]
     },
     "execution_count": 23,
     "metadata": {},
     "output_type": "execute_result"
    }
   ],
   "source": [
    "def check_palindrome(astring):\n",
    "    left_point, right_point = 0, len(astring) - 1\n",
    "    while left_point < right_point:\n",
    "        print(f\"{left_point = } = {astring[left_point]}{right_point = } = {astring[right_point]}\")\n",
    "        if astring[left_point].lower() != astring[right_point].lower():\n",
    "            return False\n",
    "        else:\n",
    "            left_point += 1\n",
    "            right_point -= 1\n",
    "   \n",
    "    return True\n",
    "\n",
    "check_palindrome(\"Racecar\")\n",
    "            "
   ]
  },
  {
   "cell_type": "code",
   "execution_count": 30,
   "metadata": {},
   "outputs": [
    {
     "name": "stdout",
     "output_type": "stream",
     "text": [
      "[19, 7, 6, 3, 19]\n"
     ]
    }
   ],
   "source": [
    "input_list = [19,3,6,7,19]\n",
    "def reverse_list(alist):\n",
    "    left_point = 0\n",
    "    right_point = len(alist) - 1\n",
    "    while left_point < right_point:\n",
    "        alist[left_point], alist[right_point] = alist[right_point], alist[left_point]\n",
    "        left_point += 1\n",
    "        right_point -= 1\n",
    "\n",
    "reverse_list(input_list)\n",
    "\n",
    "print(input_list)"
   ]
  },
  {
   "cell_type": "code",
   "execution_count": 31,
   "metadata": {},
   "outputs": [
    {
     "name": "stdout",
     "output_type": "stream",
     "text": [
      "{'sean': 'saen', 'dylan': 'dalyn', 'lyla': 'laly', 'heathir': 'hiather', 'raul': 'rual', 'porter': 'pertor', 'toby': 'tybo'}\n"
     ]
    }
   ],
   "source": [
    "#Reverse all vowels in a string\n",
    "\n",
    "# reverse_vowels('Sean') => 'saen'\n",
    "# reverse_vowels('dylan') => 'dalyn'\n",
    "# reverse_vowels('lyla') => 'laly'\n",
    "# reverse_vowels('heathir') => 'hiather'\n",
    "\n",
    "names = [\"sean\", \"dylan\", \"lyla\", \"heathir\", \"raul\", \"porter\", \"toby\"]\n",
    "\n",
    "def reverse_vowels(l):\n",
    "    vowels = \"aeiouyAEIOUY\"\n",
    "    l = list(l)\n",
    "\n",
    "    left, right = 0, len(l) - 1\n",
    "\n",
    "    while left < right and l[left] not in vowels:\n",
    "        left += 1\n",
    "\n",
    "    while left < right and l[right] not in vowels:\n",
    "        right -= 1\n",
    "\n",
    "    l[left], l[right], = l[right], l[left]\n",
    "\n",
    "    left += 1\n",
    "    right -= 1\n",
    "\n",
    "    return ''.join(l)\n",
    "\n",
    "answer = {test: reverse_vowels(test) for test in names}\n",
    "print(answer)"
   ]
  },
  {
   "cell_type": "markdown",
   "metadata": {},
   "source": [
    "#### Video of Algorithms <br>\n",
    "<p>Watch the video about algorithms.</p>\n",
    "\n",
    "https://www.youtube.com/watch?v=Q9HjeFD62Uk\n",
    "\n",
    "https://www.youtube.com/watch?v=kPRA0W1kECg\n",
    "\n",
    "https://www.youtube.com/watch?v=ZZuD6iUe3Pc"
   ]
  },
  {
   "cell_type": "markdown",
   "metadata": {},
   "source": [
    "# Sorting Algorithms"
   ]
  },
  {
   "cell_type": "markdown",
   "metadata": {},
   "source": [
    "#### Bubble Sort\n",
    "\n",
    "Worst Case: O(n^2) Time - O(1) Space"
   ]
  },
  {
   "cell_type": "code",
   "execution_count": null,
   "metadata": {},
   "outputs": [],
   "source": []
  },
  {
   "cell_type": "markdown",
   "metadata": {},
   "source": [
    "##### Insertion Sort\n",
    "\n",
    "Worst Case: O(n^2) time - O(1)space"
   ]
  },
  {
   "cell_type": "code",
   "execution_count": null,
   "metadata": {},
   "outputs": [],
   "source": []
  },
  {
   "cell_type": "markdown",
   "metadata": {},
   "source": [
    "## Merge Sort"
   ]
  },
  {
   "cell_type": "markdown",
   "metadata": {},
   "source": [
    "#### How it Works"
   ]
  },
  {
   "cell_type": "code",
   "execution_count": null,
   "metadata": {},
   "outputs": [],
   "source": []
  },
  {
   "cell_type": "markdown",
   "metadata": {},
   "source": [
    "# Binary Search\n",
    "\n",
    "The Binary Search algorithm works by finding the number in the middle of a given array and comparing it to the target. Given that the array is sorted\n",
    "\n",
    "* The worst case run time for this algorithm is `O(log(n))`"
   ]
  },
  {
   "cell_type": "code",
   "execution_count": null,
   "metadata": {},
   "outputs": [],
   "source": []
  },
  {
   "cell_type": "markdown",
   "metadata": {},
   "source": [
    "# Exercises"
   ]
  },
  {
   "cell_type": "markdown",
   "metadata": {},
   "source": [
    "### Exercise #1 <br>\n",
    "<p>Reverse the list below in-place using an in-place algorithm.<br>For extra credit: Reverse the strings at the same time.</p>"
   ]
  },
  {
   "cell_type": "code",
   "execution_count": null,
   "metadata": {},
   "outputs": [],
   "source": [
    "words = ['this' , 'is', 'a', 'sentence', '.']\n"
   ]
  },
  {
   "cell_type": "markdown",
   "metadata": {},
   "source": [
    "### Exercise #2 <br>\n",
    "<p>Create a function that counts how many distinct words are in the string below, then outputs a dictionary with the words as the key and the value as the amount of times that word appears in the string.<br>Should output:<br>{'a': 5,<br>\n",
    " 'abstract': 1,<br>\n",
    " 'an': 3,<br>\n",
    " 'array': 2, ... etc...</p>"
   ]
  },
  {
   "cell_type": "code",
   "execution_count": null,
   "metadata": {},
   "outputs": [],
   "source": [
    "a_text = 'In computing, a hash table hash map is a data structure which implements an associative array abstract data type, a structure that can map keys to values. A hash table uses a hash function to compute an index into an array of buckets or slots from which the desired value can be found'\n",
    "\n"
   ]
  },
  {
   "cell_type": "markdown",
   "metadata": {},
   "source": [
    "## Exercise #3\n",
    "\n",
    "Write a program to implement a Linear Search Algorithm. Also in a comment, write the Time Complexity of the following algorithm.\n",
    "\n",
    "#### Hint: Linear Searching will require searching a list for a given number. "
   ]
  },
  {
   "cell_type": "code",
   "execution_count": null,
   "metadata": {},
   "outputs": [],
   "source": []
  }
 ],
 "metadata": {
  "kernelspec": {
   "display_name": "Python 3 (ipykernel)",
   "language": "python",
   "name": "python3"
  },
  "language_info": {
   "codemirror_mode": {
    "name": "ipython",
    "version": 3
   },
   "file_extension": ".py",
   "mimetype": "text/x-python",
   "name": "python",
   "nbconvert_exporter": "python",
   "pygments_lexer": "ipython3",
   "version": "3.11.3"
  }
 },
 "nbformat": 4,
 "nbformat_minor": 2
}
